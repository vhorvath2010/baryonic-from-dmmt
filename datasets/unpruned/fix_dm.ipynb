{
 "cells": [
  {
   "cell_type": "code",
   "execution_count": 13,
   "metadata": {},
   "outputs": [],
   "source": [
    "import torch"
   ]
  },
  {
   "cell_type": "code",
   "execution_count": 14,
   "metadata": {},
   "outputs": [
    {
     "name": "stdout",
     "output_type": "stream",
     "text": [
      "11537\n"
     ]
    }
   ],
   "source": [
    "dm_graphs = torch.load('SG256.pt')\n",
    "print(len(dm_graphs))"
   ]
  },
  {
   "cell_type": "code",
   "execution_count": 20,
   "metadata": {},
   "outputs": [
    {
     "name": "stdout",
     "output_type": "stream",
     "text": [
      "11537\n"
     ]
    }
   ],
   "source": [
    "full_graphs = torch.load('SG256_Full.pt')\n",
    "print(len(full_graphs))"
   ]
  },
  {
   "cell_type": "code",
   "execution_count": 21,
   "metadata": {},
   "outputs": [
    {
     "name": "stdout",
     "output_type": "stream",
     "text": [
      "DM before fixing: tensor([[4.8517e+08, 9.3252e+00, 1.3388e-01, 1.8799e-01, 8.1018e-01, 2.5412e+01],\n",
      "        [4.8592e+08, 9.3274e+00, 1.3377e-01, 1.8786e-01, 8.1031e-01, 2.5425e+01],\n",
      "        [4.8517e+08, 9.3316e+00, 1.3362e-01, 1.8783e-01, 8.1025e-01, 2.5412e+01],\n",
      "        ...,\n",
      "        [9.2579e+03, 9.4243e+00, 1.3353e-01, 1.8781e-01, 8.1019e-01, 6.7948e-01],\n",
      "        [1.3585e+04, 9.4308e+00, 1.3342e-01, 1.8800e-01, 8.1018e-01, 7.7187e-01],\n",
      "        [1.7911e+04, 9.4362e+00, 1.3357e-01, 1.8839e-01, 8.1015e-01, 8.4637e-01]])\n"
     ]
    }
   ],
   "source": [
    "print('DM before fixing:', full_graphs[0].x)"
   ]
  },
  {
   "cell_type": "code",
   "execution_count": 17,
   "metadata": {},
   "outputs": [],
   "source": [
    "for dm_graph, full_graph in zip(dm_graphs, full_graphs):\n",
    "  full_graph.x = dm_graph.x"
   ]
  },
  {
   "cell_type": "code",
   "execution_count": 18,
   "metadata": {},
   "outputs": [
    {
     "name": "stdout",
     "output_type": "stream",
     "text": [
      "DM after fixing: tensor([[4.8517e+08, 9.3252e+00, 1.3388e-01, 1.8799e-01, 8.1018e-01, 2.5412e+01],\n",
      "        [4.8592e+08, 9.3274e+00, 1.3377e-01, 1.8786e-01, 8.1031e-01, 2.5425e+01],\n",
      "        [4.8517e+08, 9.3316e+00, 1.3362e-01, 1.8783e-01, 8.1025e-01, 2.5412e+01],\n",
      "        ...,\n",
      "        [9.2579e+03, 9.4243e+00, 1.3353e-01, 1.8781e-01, 8.1019e-01, 6.7948e-01],\n",
      "        [1.3585e+04, 9.4308e+00, 1.3342e-01, 1.8800e-01, 8.1018e-01, 7.7187e-01],\n",
      "        [1.7911e+04, 9.4362e+00, 1.3357e-01, 1.8839e-01, 8.1015e-01, 8.4637e-01]])\n"
     ]
    }
   ],
   "source": [
    "print('DM after fixing:', full_graphs[0].x)"
   ]
  },
  {
   "cell_type": "code",
   "execution_count": 19,
   "metadata": {},
   "outputs": [],
   "source": [
    "torch.save(full_graphs, 'SG256_Full.pt')"
   ]
  }
 ],
 "metadata": {
  "kernelspec": {
   "display_name": "wise_group_galaxy_pred",
   "language": "python",
   "name": "python3"
  },
  "language_info": {
   "codemirror_mode": {
    "name": "ipython",
    "version": 3
   },
   "file_extension": ".py",
   "mimetype": "text/x-python",
   "name": "python",
   "nbconvert_exporter": "python",
   "pygments_lexer": "ipython3",
   "version": "3.9.12"
  }
 },
 "nbformat": 4,
 "nbformat_minor": 2
}
