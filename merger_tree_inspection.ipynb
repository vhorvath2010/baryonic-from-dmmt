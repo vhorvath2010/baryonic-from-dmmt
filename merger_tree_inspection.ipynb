{
 "cells": [
  {
   "cell_type": "code",
   "execution_count": 9,
   "metadata": {},
   "outputs": [
    {
     "name": "stdout",
     "output_type": "stream",
     "text": [
      "64 of 124 graphs were not valid trees\n"
     ]
    }
   ],
   "source": [
    "import torch\n",
    "\n",
    "graphs = torch.load('datasets/unpruned/SG256_SM_Only.pt')\n",
    "\n",
    "invalid = 0\n",
    "for graph in graphs:\n",
    "  if len(graph.x) != len(graph.edge_index[0]) + 1:\n",
    "    invalid += 1\n",
    "\n",
    "print(f'{invalid} of {len(graphs)} graphs were not valid trees')"
   ]
  }
 ],
 "metadata": {
  "kernelspec": {
   "display_name": "wise_group_galaxy_pred",
   "language": "python",
   "name": "python3"
  },
  "language_info": {
   "codemirror_mode": {
    "name": "ipython",
    "version": 3
   },
   "file_extension": ".py",
   "mimetype": "text/x-python",
   "name": "python",
   "nbconvert_exporter": "python",
   "pygments_lexer": "ipython3",
   "version": "3.9.12"
  }
 },
 "nbformat": 4,
 "nbformat_minor": 2
}
