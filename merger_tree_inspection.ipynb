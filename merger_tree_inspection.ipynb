{
 "cells": [
  {
   "cell_type": "code",
   "execution_count": 11,
   "metadata": {},
   "outputs": [
    {
     "name": "stdout",
     "output_type": "stream",
     "text": [
      "0 of 124 graphs were not valid trees\n",
      "1075519 total halos\n"
     ]
    }
   ],
   "source": [
    "import torch\n",
    "import numpy as np\n",
    "\n",
    "graphs = torch.load(\"datasets/unpruned/SG256_SM_Only_Debugging.pt\")\n",
    "\n",
    "invalid_graphs = 0\n",
    "total_halos = 0\n",
    "for graph in graphs:\n",
    "    if len(graph.x) != len(graph.edge_index[0]) + 1:\n",
    "        invalid_graphs += 1\n",
    "    total_halos += len(graph.x)\n",
    "\n",
    "print(f\"{invalid_graphs} of {len(graphs)} graphs were not valid trees\")\n",
    "print(f\"{total_halos} total halos\")"
   ]
  },
  {
   "cell_type": "code",
   "execution_count": 17,
   "metadata": {},
   "outputs": [
    {
     "name": "stdout",
     "output_type": "stream",
     "text": [
      "27596\n",
      "82608\n",
      "43499\n",
      "44858\n",
      "45790\n",
      "26717\n",
      "54546\n",
      "21839\n",
      "38208\n",
      "27901\n",
      "27761\n",
      "28910\n",
      "41261\n",
      "28109\n",
      "17134\n",
      "16595\n",
      "6213\n",
      "13045\n",
      "17803\n",
      "13158\n",
      "10207\n",
      "19206\n",
      "4131\n",
      "13400\n",
      "9036\n",
      "13420\n",
      "6870\n",
      "468\n",
      "7567\n",
      "15597\n",
      "6434\n",
      "6176\n",
      "105\n",
      "11850\n",
      "9563\n",
      "6912\n",
      "10299\n",
      "2313\n",
      "6510\n",
      "164015\n",
      "3519\n",
      "7875\n",
      "6767\n",
      "4983\n",
      "5062\n",
      "8477\n",
      "5945\n",
      "3946\n",
      "5336\n",
      "2424\n",
      "3453\n",
      "5110\n",
      "2784\n",
      "1501\n",
      "26\n",
      "1443\n",
      "2130\n",
      "7494\n",
      "1939\n",
      "1646\n",
      "2512\n",
      "34\n",
      "2075\n",
      "889\n",
      "17\n",
      "93\n",
      "1177\n",
      "1765\n",
      "1785\n",
      "1876\n",
      "1818\n",
      "680\n",
      "895\n",
      "883\n",
      "41\n",
      "193\n",
      "7\n",
      "22\n",
      "1637\n",
      "12\n",
      "30\n",
      "67\n",
      "132\n",
      "1014\n",
      "77\n",
      "65\n",
      "1154\n",
      "1978\n",
      "76\n",
      "32\n",
      "42\n",
      "130\n",
      "858\n",
      "32\n",
      "43\n",
      "555\n",
      "34\n",
      "382\n",
      "30\n",
      "36\n",
      "480\n",
      "990\n",
      "178\n",
      "97\n",
      "39\n",
      "2265\n",
      "33\n",
      "426\n",
      "17\n",
      "47\n",
      "83\n",
      "181\n",
      "13\n",
      "738\n",
      "22\n",
      "496\n",
      "77\n",
      "38\n",
      "123\n",
      "81\n",
      "31\n",
      "49\n",
      "89\n",
      "14258\n"
     ]
    }
   ],
   "source": [
    "for graph in graphs:\n",
    "  print(len(graph.x))"
   ]
  },
  {
   "cell_type": "code",
   "execution_count": 26,
   "metadata": {},
   "outputs": [
    {
     "data": {
      "image/png": "[encoded data removed]",
      "text/plain": [
       "<Figure size 432x288 with 1 Axes>"
      ]
     },
     "metadata": {
      "needs_background": "light"
     },
     "output_type": "display_data"
    }
   ],
   "source": [
    "import seaborn\n",
    "import matplotlib.pyplot as plt\n",
    "\n",
    "curr_graph = graphs[51]\n",
    "dm_mass = np.log10(np.array(curr_graph.x)[:, 0])\n",
    "redshifts = np.array(curr_graph.x)[:, 1]\n",
    "sm_mass = np.log10(np.array(curr_graph.y) + 1) # account for logspace by adding 1\n",
    "\n",
    "# Draw scatterplot\n",
    "ax = seaborn.scatterplot(\n",
    "    x=dm_mass, y=sm_mass, hue=redshifts, palette=\"Spectral\", s=25\n",
    ")\n",
    "ax.set_title(\"Fully Enzo Stellar Mass (MSun) vs Dark Matter Mass (MSun)\")\n",
    "ax.set_xlabel(\"Log(Dark Matter Mass) (MSun)\")\n",
    "ax.set_ylabel(\"Log(Stellar Mass) (MSun)\")\n",
    "\n",
    "plt.show()"
   ]
  }
 ],
 "metadata": {
  "kernelspec": {
   "display_name": "wise_group_galaxy_pred",
   "language": "python",
   "name": "python3"
  },
  "language_info": {
   "codemirror_mode": {
    "name": "ipython",
    "version": 3
   },
   "file_extension": ".py",
   "mimetype": "text/x-python",
   "name": "python",
   "nbconvert_exporter": "python",
   "pygments_lexer": "ipython3",
   "version": "3.9.12"
  }
 },
 "nbformat": 4,
 "nbformat_minor": 2
}
